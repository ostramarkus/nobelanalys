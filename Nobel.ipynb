{
  "nbformat": 4,
  "nbformat_minor": 0,
  "metadata": {
    "colab": {
      "name": "Nobel.ipynb",
      "version": "0.3.2",
      "provenance": [],
      "toc_visible": true,
      "include_colab_link": true
    },
    "language_info": {
      "codemirror_mode": {
        "name": "ipython",
        "version": 3
      },
      "file_extension": ".py",
      "mimetype": "text/x-python",
      "name": "python",
      "nbconvert_exporter": "python",
      "pygments_lexer": "ipython3",
      "version": "3.7.3"
    },
    "kernelspec": {
      "display_name": "Python 3",
      "language": "python",
      "name": "python3"
    }
  },
  "cells": [
    {
      "cell_type": "markdown",
      "metadata": {
        "id": "view-in-github",
        "colab_type": "text"
      },
      "source": [
        "<a href=\"https://colab.research.google.com/github/ostramarkus/nobelanalys/blob/master/Nobel.ipynb\" target=\"_parent\"><img src=\"https://colab.research.google.com/assets/colab-badge.svg\" alt=\"Open In Colab\"/></a>"
      ]
    },
    {
      "cell_type": "markdown",
      "metadata": {
        "id": "6kfV5vIZxC6X",
        "colab_type": "text"
      },
      "source": [
        "# Analys av Nobelprisen"
      ]
    },
    {
      "cell_type": "markdown",
      "metadata": {
        "id": "Ae5uK_TIxC6Z",
        "colab_type": "text"
      },
      "source": [
        "## Introduktion och frågeställningar\n",
        "> Nobelpriset är årliga internationella utmärkelser, som av tre svenska och en norsk institution tilldelas personer som \"gjort mänskligheten den största nytta\" inom fysik, kemi, fysiologi eller medicin, litteratur och fredsarbete. Priserna fastställdes av dynamitens uppfinnare, Alfred Nobel, genom hans testamente från 1895, och delades ut första gången 1901. Varje nobelpris anses som den mest prestigefyllda utmärkelsen inom sitt område. – <cite>[Wikipedia][1]</cite>\n",
        "\n",
        "[1]:http://www.quotedb.com/quotes/2112\n",
        "\n",
        "I den här dataanalysen undersöker vi utdelningen av Nobelpriset. Syftet är att hitta eventuella mönster och trender. Vi vill t.ex. undersöka:\n",
        "* Hur ser könsfördelningen ut - och hur har den förändrats över tid?\n",
        "* Från vilka länder kommer pristagarna? Är något land överrepresenterat?\n",
        "* Pristagarnas ålder - har snittåldern förändrats över tid?\n"
      ]
    },
    {
      "cell_type": "markdown",
      "metadata": {
        "id": "MNyVhydZxC6Z",
        "colab_type": "text"
      },
      "source": [
        "## Förberedelser"
      ]
    },
    {
      "cell_type": "markdown",
      "metadata": {
        "id": "u2LJelA4xC6a",
        "colab_type": "text"
      },
      "source": [
        "### Importera kodbibliotek och bestämma stilmall för diagram"
      ]
    },
    {
      "cell_type": "markdown",
      "metadata": {
        "id": "VlpHX1jQxC6b",
        "colab_type": "text"
      },
      "source": [
        "Först importerar vi de kodbibliotek vi behöver för analysen."
      ]
    },
    {
      "cell_type": "code",
      "metadata": {
        "id": "KPiufGRqxC6b",
        "colab_type": "code",
        "colab": {}
      },
      "source": [
        "import pandas as pd\n",
        "import matplotlib.pyplot as plt"
      ],
      "execution_count": 0,
      "outputs": []
    },
    {
      "cell_type": "markdown",
      "metadata": {
        "id": "wWE_MxAExC6e",
        "colab_type": "text"
      },
      "source": [
        "Sedan bestämmer vi stilen på våra diagram."
      ]
    },
    {
      "cell_type": "code",
      "metadata": {
        "id": "IsG0ij8zxC6f",
        "colab_type": "code",
        "colab": {}
      },
      "source": [
        "plt.style.use('ggplot')"
      ],
      "execution_count": 0,
      "outputs": []
    },
    {
      "cell_type": "markdown",
      "metadata": {
        "id": "C6nvVvLfxC6h",
        "colab_type": "text"
      },
      "source": [
        "### Inläsning av data"
      ]
    },
    {
      "cell_type": "markdown",
      "metadata": {
        "id": "-djl45uIxC6i",
        "colab_type": "text"
      },
      "source": [
        "Vår data kommer i form av en csv-fil (comma-separated values). Vi läser in filen i Pandas med metoden `read_csv`. Det vi får tillbaka är en så kallad `DataFrame` - ett objekt från Pandas-biblioteket för att lagra och hantera tabell-data. "
      ]
    },
    {
      "cell_type": "code",
      "metadata": {
        "id": "xni9p3BWxP1Z",
        "colab_type": "code",
        "colab": {}
      },
      "source": [
        "path = 'https://data.ostrawebb.se/nobel/nobel_data.csv'"
      ],
      "execution_count": 0,
      "outputs": []
    },
    {
      "cell_type": "code",
      "metadata": {
        "id": "4SyleintxC6i",
        "colab_type": "code",
        "colab": {}
      },
      "source": [
        "df = pd.read_csv(path, sep=';')"
      ],
      "execution_count": 0,
      "outputs": []
    },
    {
      "cell_type": "markdown",
      "metadata": {
        "id": "cK_pJJpzxC6m",
        "colab_type": "text"
      },
      "source": [
        "Med metoden `head`kan vi lista de första raderna i tabellen."
      ]
    },
    {
      "cell_type": "code",
      "metadata": {
        "id": "7zrIy87KxC6n",
        "colab_type": "code",
        "outputId": "d4df4e4a-350a-4d1e-ef8d-c0559cd0317c",
        "colab": {
          "base_uri": "https://localhost:8080/",
          "height": 343
        }
      },
      "source": [
        "df.head()"
      ],
      "execution_count": 10,
      "outputs": [
        {
          "output_type": "execute_result",
          "data": {
            "text/html": [
              "<div>\n",
              "<style scoped>\n",
              "    .dataframe tbody tr th:only-of-type {\n",
              "        vertical-align: middle;\n",
              "    }\n",
              "\n",
              "    .dataframe tbody tr th {\n",
              "        vertical-align: top;\n",
              "    }\n",
              "\n",
              "    .dataframe thead th {\n",
              "        text-align: right;\n",
              "    }\n",
              "</style>\n",
              "<table border=\"1\" class=\"dataframe\">\n",
              "  <thead>\n",
              "    <tr style=\"text-align: right;\">\n",
              "      <th></th>\n",
              "      <th>Year</th>\n",
              "      <th>Category</th>\n",
              "      <th>Full name</th>\n",
              "      <th>Birth date</th>\n",
              "      <th>Birth city</th>\n",
              "      <th>Birth country</th>\n",
              "      <th>Sex</th>\n",
              "      <th>Organization name</th>\n",
              "      <th>Organization city</th>\n",
              "      <th>Organization country</th>\n",
              "      <th>Death date</th>\n",
              "      <th>Death city</th>\n",
              "      <th>Death country</th>\n",
              "    </tr>\n",
              "  </thead>\n",
              "  <tbody>\n",
              "    <tr>\n",
              "      <th>0</th>\n",
              "      <td>1901</td>\n",
              "      <td>Chemistry</td>\n",
              "      <td>Jacobus Henricus van 't Hoff</td>\n",
              "      <td>1852-08-30</td>\n",
              "      <td>Rotterdam</td>\n",
              "      <td>Netherlands</td>\n",
              "      <td>Male</td>\n",
              "      <td>Berlin University</td>\n",
              "      <td>Berlin</td>\n",
              "      <td>Germany</td>\n",
              "      <td>1911-03-01</td>\n",
              "      <td>Berlin</td>\n",
              "      <td>Germany</td>\n",
              "    </tr>\n",
              "    <tr>\n",
              "      <th>1</th>\n",
              "      <td>1901</td>\n",
              "      <td>Literature</td>\n",
              "      <td>Sully Prudhomme</td>\n",
              "      <td>1839-03-16</td>\n",
              "      <td>Paris</td>\n",
              "      <td>France</td>\n",
              "      <td>Male</td>\n",
              "      <td>NaN</td>\n",
              "      <td>NaN</td>\n",
              "      <td>NaN</td>\n",
              "      <td>1907-09-07</td>\n",
              "      <td>Châtenay</td>\n",
              "      <td>France</td>\n",
              "    </tr>\n",
              "    <tr>\n",
              "      <th>2</th>\n",
              "      <td>1901</td>\n",
              "      <td>Medicine</td>\n",
              "      <td>Emil Adolf von Behring</td>\n",
              "      <td>1854-03-15</td>\n",
              "      <td>Hansdorf (Lawice)</td>\n",
              "      <td>Prussia (Poland)</td>\n",
              "      <td>Male</td>\n",
              "      <td>Marburg University</td>\n",
              "      <td>Marburg</td>\n",
              "      <td>Germany</td>\n",
              "      <td>1917-03-31</td>\n",
              "      <td>Marburg</td>\n",
              "      <td>Germany</td>\n",
              "    </tr>\n",
              "    <tr>\n",
              "      <th>3</th>\n",
              "      <td>1901</td>\n",
              "      <td>Peace</td>\n",
              "      <td>Jean Henry Dunant</td>\n",
              "      <td>1828-05-08</td>\n",
              "      <td>Geneva</td>\n",
              "      <td>Switzerland</td>\n",
              "      <td>Male</td>\n",
              "      <td>NaN</td>\n",
              "      <td>NaN</td>\n",
              "      <td>NaN</td>\n",
              "      <td>1910-10-30</td>\n",
              "      <td>Heiden</td>\n",
              "      <td>Switzerland</td>\n",
              "    </tr>\n",
              "    <tr>\n",
              "      <th>4</th>\n",
              "      <td>1901</td>\n",
              "      <td>Peace</td>\n",
              "      <td>Frédéric Passy</td>\n",
              "      <td>1822-05-20</td>\n",
              "      <td>Paris</td>\n",
              "      <td>France</td>\n",
              "      <td>Male</td>\n",
              "      <td>NaN</td>\n",
              "      <td>NaN</td>\n",
              "      <td>NaN</td>\n",
              "      <td>1912-06-12</td>\n",
              "      <td>Paris</td>\n",
              "      <td>France</td>\n",
              "    </tr>\n",
              "  </tbody>\n",
              "</table>\n",
              "</div>"
            ],
            "text/plain": [
              "   Year    Category                     Full name  Birth date  \\\n",
              "0  1901   Chemistry  Jacobus Henricus van 't Hoff  1852-08-30   \n",
              "1  1901  Literature               Sully Prudhomme  1839-03-16   \n",
              "2  1901    Medicine        Emil Adolf von Behring  1854-03-15   \n",
              "3  1901       Peace             Jean Henry Dunant  1828-05-08   \n",
              "4  1901       Peace                Frédéric Passy  1822-05-20   \n",
              "\n",
              "          Birth city     Birth country   Sex   Organization name  \\\n",
              "0          Rotterdam       Netherlands  Male   Berlin University   \n",
              "1              Paris            France  Male                 NaN   \n",
              "2  Hansdorf (Lawice)  Prussia (Poland)  Male  Marburg University   \n",
              "3             Geneva       Switzerland  Male                 NaN   \n",
              "4              Paris            France  Male                 NaN   \n",
              "\n",
              "  Organization city Organization country  Death date Death city Death country  \n",
              "0            Berlin              Germany  1911-03-01     Berlin       Germany  \n",
              "1               NaN                  NaN  1907-09-07   Châtenay        France  \n",
              "2           Marburg              Germany  1917-03-31    Marburg       Germany  \n",
              "3               NaN                  NaN  1910-10-30     Heiden   Switzerland  \n",
              "4               NaN                  NaN  1912-06-12      Paris        France  "
            ]
          },
          "metadata": {
            "tags": []
          },
          "execution_count": 10
        }
      ]
    },
    {
      "cell_type": "markdown",
      "metadata": {
        "id": "4zbWZm3FxC6u",
        "colab_type": "text"
      },
      "source": [
        "### Konvertera datatyper"
      ]
    },
    {
      "cell_type": "markdown",
      "metadata": {
        "id": "dDxQ3e3XxC6u",
        "colab_type": "text"
      },
      "source": [
        "För att underlätta jämförelser är det bra om de olika kolumnerna är i korrekta datatyper. Vi listar kolumnernas datatyper genom att skriva ut attributet `dtypes`."
      ]
    },
    {
      "cell_type": "code",
      "metadata": {
        "id": "dZc_3fR5xC6v",
        "colab_type": "code",
        "outputId": "7e045959-eb6e-4d79-9d5a-96fee592d268",
        "colab": {
          "base_uri": "https://localhost:8080/",
          "height": 255
        }
      },
      "source": [
        "df.dtypes"
      ],
      "execution_count": 11,
      "outputs": [
        {
          "output_type": "execute_result",
          "data": {
            "text/plain": [
              "Year                     int64\n",
              "Category                object\n",
              "Full name               object\n",
              "Birth date              object\n",
              "Birth city              object\n",
              "Birth country           object\n",
              "Sex                     object\n",
              "Organization name       object\n",
              "Organization city       object\n",
              "Organization country    object\n",
              "Death date              object\n",
              "Death city              object\n",
              "Death country           object\n",
              "dtype: object"
            ]
          },
          "metadata": {
            "tags": []
          },
          "execution_count": 11
        }
      ]
    },
    {
      "cell_type": "code",
      "metadata": {
        "id": "OaOR0qZQxC6z",
        "colab_type": "code",
        "outputId": "2bcb8570-1e64-4962-aace-5952b12996f5",
        "colab": {
          "base_uri": "https://localhost:8080/",
          "height": 34
        }
      },
      "source": [
        "# Konvertera kolumner med datum till datatypen datetime64\n",
        "df['Birth Date'] = pd.to_datetime(df['Birth date'], format='%Y-%m-%d', errors=\"coerce\") \n",
        "df['Death Date'] = pd.to_datetime(df['Death date'], format='%Y-%m-%d', errors=\"coerce\")\n",
        "\n",
        "date_nat = df[pd.isnull(df[['Birth Date', 'Death Date']]).any(axis=1)][['Birth Date', 'Death Date']].shape[0]\n",
        "\n",
        "print(\"Antal rader med saknat eller ogitligt datum är:\", date_nat, 'av', df.shape[0])\n"
      ],
      "execution_count": 13,
      "outputs": [
        {
          "output_type": "stream",
          "text": [
            "Antal rader med saknat eller ogitligt datum är: 353 av 969\n"
          ],
          "name": "stdout"
        }
      ]
    },
    {
      "cell_type": "markdown",
      "metadata": {
        "id": "wh6lTc8LxC63",
        "colab_type": "text"
      },
      "source": [
        "Vi listar några av de rader som har ogiltiga datum:"
      ]
    },
    {
      "cell_type": "code",
      "metadata": {
        "id": "nuh8PY-KxC64",
        "colab_type": "code",
        "outputId": "d1638ded-a676-4e62-a85c-232cb170b375",
        "colab": {
          "base_uri": "https://localhost:8080/",
          "height": 397
        }
      },
      "source": [
        "df[pd.isnull(df[['Birth Date', 'Death Date']]).any(axis=1)].sample(4)"
      ],
      "execution_count": 14,
      "outputs": [
        {
          "output_type": "execute_result",
          "data": {
            "text/html": [
              "<div>\n",
              "<style scoped>\n",
              "    .dataframe tbody tr th:only-of-type {\n",
              "        vertical-align: middle;\n",
              "    }\n",
              "\n",
              "    .dataframe tbody tr th {\n",
              "        vertical-align: top;\n",
              "    }\n",
              "\n",
              "    .dataframe thead th {\n",
              "        text-align: right;\n",
              "    }\n",
              "</style>\n",
              "<table border=\"1\" class=\"dataframe\">\n",
              "  <thead>\n",
              "    <tr style=\"text-align: right;\">\n",
              "      <th></th>\n",
              "      <th>Year</th>\n",
              "      <th>Category</th>\n",
              "      <th>Full name</th>\n",
              "      <th>Birth date</th>\n",
              "      <th>Birth city</th>\n",
              "      <th>Birth country</th>\n",
              "      <th>Sex</th>\n",
              "      <th>Organization name</th>\n",
              "      <th>Organization city</th>\n",
              "      <th>Organization country</th>\n",
              "      <th>Death date</th>\n",
              "      <th>Death city</th>\n",
              "      <th>Death country</th>\n",
              "      <th>Birth Date</th>\n",
              "      <th>Death Date</th>\n",
              "    </tr>\n",
              "  </thead>\n",
              "  <tbody>\n",
              "    <tr>\n",
              "      <th>847</th>\n",
              "      <td>2008</td>\n",
              "      <td>Medicine</td>\n",
              "      <td>Luc Montagnier</td>\n",
              "      <td>1932-08-18</td>\n",
              "      <td>Chabris</td>\n",
              "      <td>France</td>\n",
              "      <td>Male</td>\n",
              "      <td>World Foundation for AIDS Research and Prevention</td>\n",
              "      <td>Paris</td>\n",
              "      <td>France</td>\n",
              "      <td>NaN</td>\n",
              "      <td>NaN</td>\n",
              "      <td>NaN</td>\n",
              "      <td>1932-08-18</td>\n",
              "      <td>NaT</td>\n",
              "    </tr>\n",
              "    <tr>\n",
              "      <th>824</th>\n",
              "      <td>2007</td>\n",
              "      <td>Chemistry</td>\n",
              "      <td>Gerhard Ertl</td>\n",
              "      <td>1936-10-10</td>\n",
              "      <td>Bad Cannstatt</td>\n",
              "      <td>Germany</td>\n",
              "      <td>Male</td>\n",
              "      <td>Fritz-Haber-Institut der Max-Planck-Gesellschaft</td>\n",
              "      <td>Berlin</td>\n",
              "      <td>Germany</td>\n",
              "      <td>NaN</td>\n",
              "      <td>NaN</td>\n",
              "      <td>NaN</td>\n",
              "      <td>1936-10-10</td>\n",
              "      <td>NaT</td>\n",
              "    </tr>\n",
              "    <tr>\n",
              "      <th>342</th>\n",
              "      <td>1960</td>\n",
              "      <td>Peace</td>\n",
              "      <td>Albert John Lutuli</td>\n",
              "      <td>1898-00-00</td>\n",
              "      <td>Bulawayo</td>\n",
              "      <td>Southern Rhodesia (Zimbabwe)</td>\n",
              "      <td>Male</td>\n",
              "      <td>NaN</td>\n",
              "      <td>NaN</td>\n",
              "      <td>NaN</td>\n",
              "      <td>1967-07-21</td>\n",
              "      <td>Stanger</td>\n",
              "      <td>South Africa</td>\n",
              "      <td>NaT</td>\n",
              "      <td>1967-07-21</td>\n",
              "    </tr>\n",
              "    <tr>\n",
              "      <th>897</th>\n",
              "      <td>2011</td>\n",
              "      <td>Physics</td>\n",
              "      <td>Adam G. Riess</td>\n",
              "      <td>1969-12-16</td>\n",
              "      <td>Washington, DC</td>\n",
              "      <td>United States of America</td>\n",
              "      <td>Male</td>\n",
              "      <td>Johns Hopkins University</td>\n",
              "      <td>Baltimore, MD</td>\n",
              "      <td>United States of America</td>\n",
              "      <td>NaN</td>\n",
              "      <td>NaN</td>\n",
              "      <td>NaN</td>\n",
              "      <td>1969-12-16</td>\n",
              "      <td>NaT</td>\n",
              "    </tr>\n",
              "  </tbody>\n",
              "</table>\n",
              "</div>"
            ],
            "text/plain": [
              "     Year   Category           Full name  Birth date      Birth city  \\\n",
              "847  2008   Medicine      Luc Montagnier  1932-08-18         Chabris   \n",
              "824  2007  Chemistry        Gerhard Ertl  1936-10-10   Bad Cannstatt   \n",
              "342  1960      Peace  Albert John Lutuli  1898-00-00        Bulawayo   \n",
              "897  2011    Physics       Adam G. Riess  1969-12-16  Washington, DC   \n",
              "\n",
              "                    Birth country   Sex  \\\n",
              "847                        France  Male   \n",
              "824                       Germany  Male   \n",
              "342  Southern Rhodesia (Zimbabwe)  Male   \n",
              "897      United States of America  Male   \n",
              "\n",
              "                                     Organization name Organization city  \\\n",
              "847  World Foundation for AIDS Research and Prevention             Paris   \n",
              "824   Fritz-Haber-Institut der Max-Planck-Gesellschaft            Berlin   \n",
              "342                                                NaN               NaN   \n",
              "897                           Johns Hopkins University     Baltimore, MD   \n",
              "\n",
              "         Organization country  Death date Death city Death country Birth Date  \\\n",
              "847                    France         NaN        NaN           NaN 1932-08-18   \n",
              "824                   Germany         NaN        NaN           NaN 1936-10-10   \n",
              "342                       NaN  1967-07-21    Stanger  South Africa        NaT   \n",
              "897  United States of America         NaN        NaN           NaN 1969-12-16   \n",
              "\n",
              "    Death Date  \n",
              "847        NaT  \n",
              "824        NaT  \n",
              "342 1967-07-21  \n",
              "897        NaT  "
            ]
          },
          "metadata": {
            "tags": []
          },
          "execution_count": 14
        }
      ]
    },
    {
      "cell_type": "markdown",
      "metadata": {
        "id": "KngmgGVlxC66",
        "colab_type": "text"
      },
      "source": [
        "Det verkar som om ogiltiga datum verkar handla om att pristagaren fortfarande lever eller att det är organisationer som fått pristet.\n",
        "\n",
        "För säkerhets skull kan vi se om någon pristagare har ett dödsdatum men saknar födelsedatum."
      ]
    },
    {
      "cell_type": "code",
      "metadata": {
        "id": "K9u0XnvfxC67",
        "colab_type": "code",
        "outputId": "7e203d0b-f0cb-4695-8fa7-8de88109e975",
        "colab": {
          "base_uri": "https://localhost:8080/",
          "height": 34
        }
      },
      "source": [
        "df[(df['Birth Date'].isnull()) & (df['Birth Date'].notnull())].shape[0]"
      ],
      "execution_count": 15,
      "outputs": [
        {
          "output_type": "execute_result",
          "data": {
            "text/plain": [
              "0"
            ]
          },
          "metadata": {
            "tags": []
          },
          "execution_count": 15
        }
      ]
    },
    {
      "cell_type": "code",
      "metadata": {
        "id": "yDiPFszFxC6-",
        "colab_type": "code",
        "outputId": "0cf484b8-fdfc-4b08-9cb4-04cb55deec45",
        "colab": {
          "base_uri": "https://localhost:8080/",
          "height": 289
        }
      },
      "source": [
        "df.dtypes"
      ],
      "execution_count": 16,
      "outputs": [
        {
          "output_type": "execute_result",
          "data": {
            "text/plain": [
              "Year                             int64\n",
              "Category                        object\n",
              "Full name                       object\n",
              "Birth date                      object\n",
              "Birth city                      object\n",
              "Birth country                   object\n",
              "Sex                             object\n",
              "Organization name               object\n",
              "Organization city               object\n",
              "Organization country            object\n",
              "Death date                      object\n",
              "Death city                      object\n",
              "Death country                   object\n",
              "Birth Date              datetime64[ns]\n",
              "Death Date              datetime64[ns]\n",
              "dtype: object"
            ]
          },
          "metadata": {
            "tags": []
          },
          "execution_count": 16
        }
      ]
    },
    {
      "cell_type": "markdown",
      "metadata": {
        "id": "ryFu28jBxC7A",
        "colab_type": "text"
      },
      "source": [
        "## Undersökning av datan"
      ]
    },
    {
      "cell_type": "markdown",
      "metadata": {
        "id": "l99u7GNE4KKP",
        "colab_type": "text"
      },
      "source": [
        "Nu har vi läst in och konverterat vår data och är redo att börja utforska den. Vi kan börja med att undersöka hur många rader (alltså unika Nobelpris) datan består av. "
      ]
    },
    {
      "cell_type": "code",
      "metadata": {
        "id": "K6XPR-lG7aSY",
        "colab_type": "code",
        "colab": {
          "base_uri": "https://localhost:8080/",
          "height": 34
        },
        "outputId": "5b059a02-186e-463a-d944-22ed50b973d1"
      },
      "source": [
        "print('Tabellen har {} rader'.format(df.shape[0]))"
      ],
      "execution_count": 18,
      "outputs": [
        {
          "output_type": "stream",
          "text": [
            "Tabellen har 969 rader\n"
          ],
          "name": "stdout"
        }
      ]
    },
    {
      "cell_type": "markdown",
      "metadata": {
        "id": "lYas1IyMBUrf",
        "colab_type": "text"
      },
      "source": [
        "### Könsfördelning\n",
        "Vi börjar med att undersöka könsfördelningen på pristagarna. Vi skapar två serier hur många praistagare av varje kön det var för varje år."
      ]
    },
    {
      "cell_type": "code",
      "metadata": {
        "id": "JDMu7zUO8QeM",
        "colab_type": "code",
        "colab": {}
      },
      "source": [
        "females_series = df[df['Sex'] == 'Female'].groupby(['Year']).count()['Category']\n",
        "males_series = df[df['Sex'] == 'Male'].groupby(['Year']).count()['Category']"
      ],
      "execution_count": 0,
      "outputs": []
    },
    {
      "cell_type": "markdown",
      "metadata": {
        "id": "xPS7VeQpCSjn",
        "colab_type": "text"
      },
      "source": [
        "Utifrån de serierna skapar vi en ny tabell: `gender_ratio`, med två kolumner - en för varje kön."
      ]
    },
    {
      "cell_type": "code",
      "metadata": {
        "id": "eMpYQwJ19KYO",
        "colab_type": "code",
        "colab": {
          "base_uri": "https://localhost:8080/",
          "height": 235
        },
        "outputId": "5b70719c-cfbf-41fd-a924-2e11792cdaab"
      },
      "source": [
        "gender_ratio = pd.DataFrame({'Males': males_series, 'Females': females_series}).fillna(0)\n",
        "gender_ratio.head()"
      ],
      "execution_count": 36,
      "outputs": [
        {
          "output_type": "execute_result",
          "data": {
            "text/html": [
              "<div>\n",
              "<style scoped>\n",
              "    .dataframe tbody tr th:only-of-type {\n",
              "        vertical-align: middle;\n",
              "    }\n",
              "\n",
              "    .dataframe tbody tr th {\n",
              "        vertical-align: top;\n",
              "    }\n",
              "\n",
              "    .dataframe thead th {\n",
              "        text-align: right;\n",
              "    }\n",
              "</style>\n",
              "<table border=\"1\" class=\"dataframe\">\n",
              "  <thead>\n",
              "    <tr style=\"text-align: right;\">\n",
              "      <th></th>\n",
              "      <th>Males</th>\n",
              "      <th>Females</th>\n",
              "    </tr>\n",
              "    <tr>\n",
              "      <th>Year</th>\n",
              "      <th></th>\n",
              "      <th></th>\n",
              "    </tr>\n",
              "  </thead>\n",
              "  <tbody>\n",
              "    <tr>\n",
              "      <th>1901</th>\n",
              "      <td>6</td>\n",
              "      <td>0.0</td>\n",
              "    </tr>\n",
              "    <tr>\n",
              "      <th>1902</th>\n",
              "      <td>7</td>\n",
              "      <td>0.0</td>\n",
              "    </tr>\n",
              "    <tr>\n",
              "      <th>1903</th>\n",
              "      <td>6</td>\n",
              "      <td>1.0</td>\n",
              "    </tr>\n",
              "    <tr>\n",
              "      <th>1904</th>\n",
              "      <td>5</td>\n",
              "      <td>0.0</td>\n",
              "    </tr>\n",
              "    <tr>\n",
              "      <th>1905</th>\n",
              "      <td>4</td>\n",
              "      <td>1.0</td>\n",
              "    </tr>\n",
              "  </tbody>\n",
              "</table>\n",
              "</div>"
            ],
            "text/plain": [
              "      Males  Females\n",
              "Year                \n",
              "1901      6      0.0\n",
              "1902      7      0.0\n",
              "1903      6      1.0\n",
              "1904      5      0.0\n",
              "1905      4      1.0"
            ]
          },
          "metadata": {
            "tags": []
          },
          "execution_count": 36
        }
      ]
    },
    {
      "cell_type": "code",
      "metadata": {
        "id": "euIs3DDa_jR4",
        "colab_type": "code",
        "colab": {
          "base_uri": "https://localhost:8080/",
          "height": 340
        },
        "outputId": "1674a7ab-221a-43ff-9ddb-73d440f8f09c"
      },
      "source": [
        "gender_ratio.plot(figsize=(14, 5))\n",
        "plt.show()"
      ],
      "execution_count": 50,
      "outputs": [
        {
          "output_type": "display_data",
          "data": {
            "image/png": "[encoded data removed]",
            "text/plain": [
              "<Figure size 1008x360 with 1 Axes>"
            ]
          },
          "metadata": {
            "tags": []
          }
        }
      ]
    },
    {
      "cell_type": "markdown",
      "metadata": {
        "id": "EpuMqDJe7MkU",
        "colab_type": "text"
      },
      "source": [
        "Här ser vi hur snefördelad könsfördelningen varit under hela nittiotalet, med långa perioder utan någon kvinnlig pristagare. \n",
        "\n",
        "Vi ser dock att vi har ett år med ovanligt många kvinnliga pristagare, någon gång runt 2010. Vi tittar närmare på det året."
      ]
    },
    {
      "cell_type": "code",
      "metadata": {
        "id": "mClmTftDDSzi",
        "colab_type": "code",
        "colab": {
          "base_uri": "https://localhost:8080/",
          "height": 34
        },
        "outputId": "79ca4cf9-f507-4411-9b67-de3ace0d7efd"
      },
      "source": [
        "year_series = gender_ratio.sort_values(by=\"Females\", ascending=False).iloc[0]\n",
        "print(\"År {} fick {} kvinnor Nobelpriset.\".format(year_series.name, year_series['Females']))"
      ],
      "execution_count": 72,
      "outputs": [
        {
          "output_type": "stream",
          "text": [
            "År 2009 fick 6.0 kvinnor Nobelpriset.\n"
          ],
          "name": "stdout"
        }
      ]
    },
    {
      "cell_type": "code",
      "metadata": {
        "id": "TBnDdlL5Fa62",
        "colab_type": "code",
        "colab": {
          "base_uri": "https://localhost:8080/",
          "height": 1188
        },
        "outputId": "abe9dbee-0770-4b06-8f13-2288dcca15ac"
      },
      "source": [
        " df[df['Year'] == year_series.name]"
      ],
      "execution_count": 75,
      "outputs": [
        {
          "output_type": "execute_result",
          "data": {
            "text/html": [
              "<div>\n",
              "<style scoped>\n",
              "    .dataframe tbody tr th:only-of-type {\n",
              "        vertical-align: middle;\n",
              "    }\n",
              "\n",
              "    .dataframe tbody tr th {\n",
              "        vertical-align: top;\n",
              "    }\n",
              "\n",
              "    .dataframe thead th {\n",
              "        text-align: right;\n",
              "    }\n",
              "</style>\n",
              "<table border=\"1\" class=\"dataframe\">\n",
              "  <thead>\n",
              "    <tr style=\"text-align: right;\">\n",
              "      <th></th>\n",
              "      <th>Year</th>\n",
              "      <th>Category</th>\n",
              "      <th>Full name</th>\n",
              "      <th>Birth date</th>\n",
              "      <th>Birth city</th>\n",
              "      <th>Birth country</th>\n",
              "      <th>Sex</th>\n",
              "      <th>Organization name</th>\n",
              "      <th>Organization city</th>\n",
              "      <th>Organization country</th>\n",
              "      <th>Death date</th>\n",
              "      <th>Death city</th>\n",
              "      <th>Death country</th>\n",
              "      <th>Birth Date</th>\n",
              "      <th>Death Date</th>\n",
              "    </tr>\n",
              "  </thead>\n",
              "  <tbody>\n",
              "    <tr>\n",
              "      <th>853</th>\n",
              "      <td>2009</td>\n",
              "      <td>Chemistry</td>\n",
              "      <td>Venkatraman Ramakrishnan</td>\n",
              "      <td>NaN</td>\n",
              "      <td>Chidambaram, Tamil Nadu</td>\n",
              "      <td>India</td>\n",
              "      <td>Male</td>\n",
              "      <td>MRC Laboratory of Molecular Biology</td>\n",
              "      <td>Cambridge</td>\n",
              "      <td>United Kingdom</td>\n",
              "      <td>NaN</td>\n",
              "      <td>NaN</td>\n",
              "      <td>NaN</td>\n",
              "      <td>NaT</td>\n",
              "      <td>NaT</td>\n",
              "    </tr>\n",
              "    <tr>\n",
              "      <th>854</th>\n",
              "      <td>2009</td>\n",
              "      <td>Chemistry</td>\n",
              "      <td>Thomas A. Steitz</td>\n",
              "      <td>1940-08-23</td>\n",
              "      <td>Milwaukee, WI</td>\n",
              "      <td>United States of America</td>\n",
              "      <td>Male</td>\n",
              "      <td>Yale University</td>\n",
              "      <td>New Haven, CT</td>\n",
              "      <td>United States of America</td>\n",
              "      <td>NaN</td>\n",
              "      <td>NaN</td>\n",
              "      <td>NaN</td>\n",
              "      <td>1940-08-23</td>\n",
              "      <td>NaT</td>\n",
              "    </tr>\n",
              "    <tr>\n",
              "      <th>855</th>\n",
              "      <td>2009</td>\n",
              "      <td>Chemistry</td>\n",
              "      <td>Thomas A. Steitz</td>\n",
              "      <td>1940-08-23</td>\n",
              "      <td>Milwaukee, WI</td>\n",
              "      <td>United States of America</td>\n",
              "      <td>Male</td>\n",
              "      <td>Howard Hughes Medical Institute</td>\n",
              "      <td>NaN</td>\n",
              "      <td>NaN</td>\n",
              "      <td>NaN</td>\n",
              "      <td>NaN</td>\n",
              "      <td>NaN</td>\n",
              "      <td>1940-08-23</td>\n",
              "      <td>NaT</td>\n",
              "    </tr>\n",
              "    <tr>\n",
              "      <th>856</th>\n",
              "      <td>2009</td>\n",
              "      <td>Chemistry</td>\n",
              "      <td>Ada E. Yonath</td>\n",
              "      <td>1939-06-22</td>\n",
              "      <td>Jerusalem</td>\n",
              "      <td>British Mandate of Palestine (Israel)</td>\n",
              "      <td>Female</td>\n",
              "      <td>Weizmann Institute of Science</td>\n",
              "      <td>Rehovot</td>\n",
              "      <td>Israel</td>\n",
              "      <td>NaN</td>\n",
              "      <td>NaN</td>\n",
              "      <td>NaN</td>\n",
              "      <td>1939-06-22</td>\n",
              "      <td>NaT</td>\n",
              "    </tr>\n",
              "    <tr>\n",
              "      <th>857</th>\n",
              "      <td>2009</td>\n",
              "      <td>Economics</td>\n",
              "      <td>Elinor Ostrom</td>\n",
              "      <td>1933-08-07</td>\n",
              "      <td>Los Angeles, CA</td>\n",
              "      <td>United States of America</td>\n",
              "      <td>Female</td>\n",
              "      <td>Indiana University</td>\n",
              "      <td>Bloomington, IN</td>\n",
              "      <td>United States of America</td>\n",
              "      <td>2012-06-12</td>\n",
              "      <td>Bloomington, IN</td>\n",
              "      <td>United States of America</td>\n",
              "      <td>1933-08-07</td>\n",
              "      <td>2012-06-12</td>\n",
              "    </tr>\n",
              "    <tr>\n",
              "      <th>858</th>\n",
              "      <td>2009</td>\n",
              "      <td>Economics</td>\n",
              "      <td>Elinor Ostrom</td>\n",
              "      <td>1933-08-07</td>\n",
              "      <td>Los Angeles, CA</td>\n",
              "      <td>United States of America</td>\n",
              "      <td>Female</td>\n",
              "      <td>Arizona State University</td>\n",
              "      <td>Tempe, AZ</td>\n",
              "      <td>United States of America</td>\n",
              "      <td>2012-06-12</td>\n",
              "      <td>Bloomington, IN</td>\n",
              "      <td>United States of America</td>\n",
              "      <td>1933-08-07</td>\n",
              "      <td>2012-06-12</td>\n",
              "    </tr>\n",
              "    <tr>\n",
              "      <th>859</th>\n",
              "      <td>2009</td>\n",
              "      <td>Economics</td>\n",
              "      <td>Oliver E. Williamson</td>\n",
              "      <td>1932-09-27</td>\n",
              "      <td>Superior, WI</td>\n",
              "      <td>United States of America</td>\n",
              "      <td>Male</td>\n",
              "      <td>University of California</td>\n",
              "      <td>Berkeley, CA</td>\n",
              "      <td>United States of America</td>\n",
              "      <td>NaN</td>\n",
              "      <td>NaN</td>\n",
              "      <td>NaN</td>\n",
              "      <td>1932-09-27</td>\n",
              "      <td>NaT</td>\n",
              "    </tr>\n",
              "    <tr>\n",
              "      <th>860</th>\n",
              "      <td>2009</td>\n",
              "      <td>Literature</td>\n",
              "      <td>Herta Müller</td>\n",
              "      <td>1953-08-17</td>\n",
              "      <td>Nitzkydorf, Banat</td>\n",
              "      <td>Romania</td>\n",
              "      <td>Female</td>\n",
              "      <td>NaN</td>\n",
              "      <td>NaN</td>\n",
              "      <td>NaN</td>\n",
              "      <td>NaN</td>\n",
              "      <td>NaN</td>\n",
              "      <td>NaN</td>\n",
              "      <td>1953-08-17</td>\n",
              "      <td>NaT</td>\n",
              "    </tr>\n",
              "    <tr>\n",
              "      <th>861</th>\n",
              "      <td>2009</td>\n",
              "      <td>Medicine</td>\n",
              "      <td>Elizabeth H. Blackburn</td>\n",
              "      <td>1948-11-26</td>\n",
              "      <td>Hobart, Tasmania</td>\n",
              "      <td>Australia</td>\n",
              "      <td>Female</td>\n",
              "      <td>University of California</td>\n",
              "      <td>San Francisco, CA</td>\n",
              "      <td>United States of America</td>\n",
              "      <td>NaN</td>\n",
              "      <td>NaN</td>\n",
              "      <td>NaN</td>\n",
              "      <td>1948-11-26</td>\n",
              "      <td>NaT</td>\n",
              "    </tr>\n",
              "    <tr>\n",
              "      <th>862</th>\n",
              "      <td>2009</td>\n",
              "      <td>Medicine</td>\n",
              "      <td>Carol W. Greider</td>\n",
              "      <td>1961-04-15</td>\n",
              "      <td>San Diego, CA</td>\n",
              "      <td>United States of America</td>\n",
              "      <td>Female</td>\n",
              "      <td>Johns Hopkins University School of Medicine</td>\n",
              "      <td>Baltimore, MD</td>\n",
              "      <td>United States of America</td>\n",
              "      <td>NaN</td>\n",
              "      <td>NaN</td>\n",
              "      <td>NaN</td>\n",
              "      <td>1961-04-15</td>\n",
              "      <td>NaT</td>\n",
              "    </tr>\n",
              "    <tr>\n",
              "      <th>863</th>\n",
              "      <td>2009</td>\n",
              "      <td>Medicine</td>\n",
              "      <td>Jack W. Szostak</td>\n",
              "      <td>1952-11-09</td>\n",
              "      <td>London</td>\n",
              "      <td>United Kingdom</td>\n",
              "      <td>Male</td>\n",
              "      <td>Harvard Medical School</td>\n",
              "      <td>Boston, MA</td>\n",
              "      <td>United States of America</td>\n",
              "      <td>NaN</td>\n",
              "      <td>NaN</td>\n",
              "      <td>NaN</td>\n",
              "      <td>1952-11-09</td>\n",
              "      <td>NaT</td>\n",
              "    </tr>\n",
              "    <tr>\n",
              "      <th>864</th>\n",
              "      <td>2009</td>\n",
              "      <td>Medicine</td>\n",
              "      <td>Jack W. Szostak</td>\n",
              "      <td>1952-11-09</td>\n",
              "      <td>London</td>\n",
              "      <td>United Kingdom</td>\n",
              "      <td>Male</td>\n",
              "      <td>Massachusetts General Hospital</td>\n",
              "      <td>Boston, MA</td>\n",
              "      <td>United States of America</td>\n",
              "      <td>NaN</td>\n",
              "      <td>NaN</td>\n",
              "      <td>NaN</td>\n",
              "      <td>1952-11-09</td>\n",
              "      <td>NaT</td>\n",
              "    </tr>\n",
              "    <tr>\n",
              "      <th>865</th>\n",
              "      <td>2009</td>\n",
              "      <td>Medicine</td>\n",
              "      <td>Jack W. Szostak</td>\n",
              "      <td>1952-11-09</td>\n",
              "      <td>London</td>\n",
              "      <td>United Kingdom</td>\n",
              "      <td>Male</td>\n",
              "      <td>Howard Hughes Medical Institute</td>\n",
              "      <td>NaN</td>\n",
              "      <td>NaN</td>\n",
              "      <td>NaN</td>\n",
              "      <td>NaN</td>\n",
              "      <td>NaN</td>\n",
              "      <td>1952-11-09</td>\n",
              "      <td>NaT</td>\n",
              "    </tr>\n",
              "    <tr>\n",
              "      <th>866</th>\n",
              "      <td>2009</td>\n",
              "      <td>Peace</td>\n",
              "      <td>Barack H. Obama</td>\n",
              "      <td>1961-08-04</td>\n",
              "      <td>Honolulu, HI</td>\n",
              "      <td>United States of America</td>\n",
              "      <td>Male</td>\n",
              "      <td>NaN</td>\n",
              "      <td>NaN</td>\n",
              "      <td>NaN</td>\n",
              "      <td>NaN</td>\n",
              "      <td>NaN</td>\n",
              "      <td>NaN</td>\n",
              "      <td>1961-08-04</td>\n",
              "      <td>NaT</td>\n",
              "    </tr>\n",
              "    <tr>\n",
              "      <th>867</th>\n",
              "      <td>2009</td>\n",
              "      <td>Physics</td>\n",
              "      <td>Charles Kuen Kao</td>\n",
              "      <td>1933-11-04</td>\n",
              "      <td>Shanghai</td>\n",
              "      <td>China</td>\n",
              "      <td>Male</td>\n",
              "      <td>Standard Telecommunication Laboratories</td>\n",
              "      <td>Harlow</td>\n",
              "      <td>United Kingdom</td>\n",
              "      <td>NaN</td>\n",
              "      <td>NaN</td>\n",
              "      <td>NaN</td>\n",
              "      <td>1933-11-04</td>\n",
              "      <td>NaT</td>\n",
              "    </tr>\n",
              "    <tr>\n",
              "      <th>868</th>\n",
              "      <td>2009</td>\n",
              "      <td>Physics</td>\n",
              "      <td>Charles Kuen Kao</td>\n",
              "      <td>1933-11-04</td>\n",
              "      <td>Shanghai</td>\n",
              "      <td>China</td>\n",
              "      <td>Male</td>\n",
              "      <td>Chinese University of Hong Kong</td>\n",
              "      <td>Hong Kong</td>\n",
              "      <td>China</td>\n",
              "      <td>NaN</td>\n",
              "      <td>NaN</td>\n",
              "      <td>NaN</td>\n",
              "      <td>1933-11-04</td>\n",
              "      <td>NaT</td>\n",
              "    </tr>\n",
              "    <tr>\n",
              "      <th>869</th>\n",
              "      <td>2009</td>\n",
              "      <td>Physics</td>\n",
              "      <td>Willard S. Boyle</td>\n",
              "      <td>1924-08-19</td>\n",
              "      <td>Amherst, NS</td>\n",
              "      <td>Canada</td>\n",
              "      <td>Male</td>\n",
              "      <td>Bell Laboratories</td>\n",
              "      <td>Murray Hill, NJ</td>\n",
              "      <td>United States of America</td>\n",
              "      <td>2011-05-07</td>\n",
              "      <td>Truro, NS</td>\n",
              "      <td>Canada</td>\n",
              "      <td>1924-08-19</td>\n",
              "      <td>2011-05-07</td>\n",
              "    </tr>\n",
              "    <tr>\n",
              "      <th>870</th>\n",
              "      <td>2009</td>\n",
              "      <td>Physics</td>\n",
              "      <td>George E. Smith</td>\n",
              "      <td>1930-05-10</td>\n",
              "      <td>White Plains, NY</td>\n",
              "      <td>United States of America</td>\n",
              "      <td>Male</td>\n",
              "      <td>Bell Laboratories</td>\n",
              "      <td>Murray Hill, NJ</td>\n",
              "      <td>United States of America</td>\n",
              "      <td>NaN</td>\n",
              "      <td>NaN</td>\n",
              "      <td>NaN</td>\n",
              "      <td>1930-05-10</td>\n",
              "      <td>NaT</td>\n",
              "    </tr>\n",
              "  </tbody>\n",
              "</table>\n",
              "</div>"
            ],
            "text/plain": [
              "     Year    Category                 Full name  Birth date  \\\n",
              "853  2009   Chemistry  Venkatraman Ramakrishnan         NaN   \n",
              "854  2009   Chemistry          Thomas A. Steitz  1940-08-23   \n",
              "855  2009   Chemistry          Thomas A. Steitz  1940-08-23   \n",
              "856  2009   Chemistry             Ada E. Yonath  1939-06-22   \n",
              "857  2009   Economics             Elinor Ostrom  1933-08-07   \n",
              "858  2009   Economics             Elinor Ostrom  1933-08-07   \n",
              "859  2009   Economics      Oliver E. Williamson  1932-09-27   \n",
              "860  2009  Literature              Herta Müller  1953-08-17   \n",
              "861  2009    Medicine    Elizabeth H. Blackburn  1948-11-26   \n",
              "862  2009    Medicine          Carol W. Greider  1961-04-15   \n",
              "863  2009    Medicine           Jack W. Szostak  1952-11-09   \n",
              "864  2009    Medicine           Jack W. Szostak  1952-11-09   \n",
              "865  2009    Medicine           Jack W. Szostak  1952-11-09   \n",
              "866  2009       Peace           Barack H. Obama  1961-08-04   \n",
              "867  2009     Physics          Charles Kuen Kao  1933-11-04   \n",
              "868  2009     Physics          Charles Kuen Kao  1933-11-04   \n",
              "869  2009     Physics          Willard S. Boyle  1924-08-19   \n",
              "870  2009     Physics           George E. Smith  1930-05-10   \n",
              "\n",
              "                  Birth city                          Birth country     Sex  \\\n",
              "853  Chidambaram, Tamil Nadu                                  India    Male   \n",
              "854            Milwaukee, WI               United States of America    Male   \n",
              "855            Milwaukee, WI               United States of America    Male   \n",
              "856                Jerusalem  British Mandate of Palestine (Israel)  Female   \n",
              "857          Los Angeles, CA               United States of America  Female   \n",
              "858          Los Angeles, CA               United States of America  Female   \n",
              "859             Superior, WI               United States of America    Male   \n",
              "860        Nitzkydorf, Banat                                Romania  Female   \n",
              "861         Hobart, Tasmania                              Australia  Female   \n",
              "862            San Diego, CA               United States of America  Female   \n",
              "863                   London                         United Kingdom    Male   \n",
              "864                   London                         United Kingdom    Male   \n",
              "865                   London                         United Kingdom    Male   \n",
              "866             Honolulu, HI               United States of America    Male   \n",
              "867                 Shanghai                                  China    Male   \n",
              "868                 Shanghai                                  China    Male   \n",
              "869              Amherst, NS                                 Canada    Male   \n",
              "870         White Plains, NY               United States of America    Male   \n",
              "\n",
              "                               Organization name  Organization city  \\\n",
              "853          MRC Laboratory of Molecular Biology          Cambridge   \n",
              "854                              Yale University      New Haven, CT   \n",
              "855              Howard Hughes Medical Institute                NaN   \n",
              "856                Weizmann Institute of Science            Rehovot   \n",
              "857                           Indiana University    Bloomington, IN   \n",
              "858                     Arizona State University          Tempe, AZ   \n",
              "859                     University of California       Berkeley, CA   \n",
              "860                                          NaN                NaN   \n",
              "861                     University of California  San Francisco, CA   \n",
              "862  Johns Hopkins University School of Medicine      Baltimore, MD   \n",
              "863                       Harvard Medical School         Boston, MA   \n",
              "864               Massachusetts General Hospital         Boston, MA   \n",
              "865              Howard Hughes Medical Institute                NaN   \n",
              "866                                          NaN                NaN   \n",
              "867      Standard Telecommunication Laboratories             Harlow   \n",
              "868              Chinese University of Hong Kong          Hong Kong   \n",
              "869                            Bell Laboratories    Murray Hill, NJ   \n",
              "870                            Bell Laboratories    Murray Hill, NJ   \n",
              "\n",
              "         Organization country  Death date       Death city  \\\n",
              "853            United Kingdom         NaN              NaN   \n",
              "854  United States of America         NaN              NaN   \n",
              "855                       NaN         NaN              NaN   \n",
              "856                    Israel         NaN              NaN   \n",
              "857  United States of America  2012-06-12  Bloomington, IN   \n",
              "858  United States of America  2012-06-12  Bloomington, IN   \n",
              "859  United States of America         NaN              NaN   \n",
              "860                       NaN         NaN              NaN   \n",
              "861  United States of America         NaN              NaN   \n",
              "862  United States of America         NaN              NaN   \n",
              "863  United States of America         NaN              NaN   \n",
              "864  United States of America         NaN              NaN   \n",
              "865                       NaN         NaN              NaN   \n",
              "866                       NaN         NaN              NaN   \n",
              "867            United Kingdom         NaN              NaN   \n",
              "868                     China         NaN              NaN   \n",
              "869  United States of America  2011-05-07        Truro, NS   \n",
              "870  United States of America         NaN              NaN   \n",
              "\n",
              "                Death country Birth Date Death Date  \n",
              "853                       NaN        NaT        NaT  \n",
              "854                       NaN 1940-08-23        NaT  \n",
              "855                       NaN 1940-08-23        NaT  \n",
              "856                       NaN 1939-06-22        NaT  \n",
              "857  United States of America 1933-08-07 2012-06-12  \n",
              "858  United States of America 1933-08-07 2012-06-12  \n",
              "859                       NaN 1932-09-27        NaT  \n",
              "860                       NaN 1953-08-17        NaT  \n",
              "861                       NaN 1948-11-26        NaT  \n",
              "862                       NaN 1961-04-15        NaT  \n",
              "863                       NaN 1952-11-09        NaT  \n",
              "864                       NaN 1952-11-09        NaT  \n",
              "865                       NaN 1952-11-09        NaT  \n",
              "866                       NaN 1961-08-04        NaT  \n",
              "867                       NaN 1933-11-04        NaT  \n",
              "868                       NaN 1933-11-04        NaT  \n",
              "869                    Canada 1924-08-19 2011-05-07  \n",
              "870                       NaN 1930-05-10        NaT  "
            ]
          },
          "metadata": {
            "tags": []
          },
          "execution_count": 75
        }
      ]
    }
  ]
}